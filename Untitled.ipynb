{
 "cells": [
  {
   "cell_type": "code",
   "execution_count": 1,
   "id": "ee45af7f-3a5c-428f-8eca-e19244cb4d7d",
   "metadata": {},
   "outputs": [],
   "source": [
    "from vivarium_gates_iv_iron.data.loader import get_data"
   ]
  },
  {
   "cell_type": "code",
   "execution_count": 2,
   "id": "712f33ad-107e-4908-9fb8-4f175fe9afd4",
   "metadata": {},
   "outputs": [],
   "source": []
  },
  {
   "cell_type": "code",
   "execution_count": null,
   "id": "3232770d-dfc5-4892-928d-5a52af3ff937",
   "metadata": {},
   "outputs": [],
   "source": [
    "location = 'South Asia'\n"
   ]
  },
  {
   "cell_type": "code",
   "execution_count": null,
   "id": "0a7c4526-7b01-49f5-8595-c71d785a5fea",
   "metadata": {},
   "outputs": [],
   "source": []
  }
 ],
 "metadata": {
  "kernelspec": {
   "display_name": "Python 3 (ipykernel)",
   "language": "python",
   "name": "python3"
  },
  "language_info": {
   "codemirror_mode": {
    "name": "ipython",
    "version": 3
   },
   "file_extension": ".py",
   "mimetype": "text/x-python",
   "name": "python",
   "nbconvert_exporter": "python",
   "pygments_lexer": "ipython3",
   "version": "3.8.13"
  }
 },
 "nbformat": 4,
 "nbformat_minor": 5
}
